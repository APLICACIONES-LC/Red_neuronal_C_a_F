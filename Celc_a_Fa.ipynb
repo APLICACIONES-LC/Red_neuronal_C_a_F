{
 "cells": [
  {
   "cell_type": "code",
   "execution_count": 1,
   "metadata": {},
   "outputs": [],
   "source": [
    "import tensorflow as tf\n",
    "import numpy as np"
   ]
  },
  {
   "cell_type": "code",
   "execution_count": 2,
   "metadata": {},
   "outputs": [],
   "source": [
    "celsius = np.array([-40, -10, 0, 8, 15, 22, 38], dtype=float)\n",
    "fahrenheit = np.array([-40, 14, 32, 46.4, 59, 71.6, 100.4], dtype=float)"
   ]
  },
  {
   "cell_type": "code",
   "execution_count": 3,
   "metadata": {},
   "outputs": [],
   "source": [
    "oculta1 = tf.keras.layers.Dense(units=3, input_shape=[1])\n",
    "oculta2 = tf.keras.layers.Dense(units=3)\n",
    "salida = tf.keras.layers.Dense(units=1)\n",
    "modelo = tf.keras.Sequential([oculta1, oculta2, salida])\n"
   ]
  },
  {
   "cell_type": "code",
   "execution_count": 4,
   "metadata": {},
   "outputs": [],
   "source": [
    "modelo.compile(\n",
    "    optimizer=tf.keras.optimizers.Adam(0.1),\n",
    "    loss='mean_squared_error'\n",
    ")\n"
   ]
  },
  {
   "cell_type": "code",
   "execution_count": 5,
   "metadata": {},
   "outputs": [
    {
     "name": "stdout",
     "output_type": "stream",
     "text": [
      "Comenzando entrenamiento...\n",
      "Modelo entrenado!\n"
     ]
    }
   ],
   "source": [
    "print(\"Comenzando entrenamiento...\")\n",
    "historial = modelo.fit(celsius, fahrenheit, epochs=1000, verbose=False)\n",
    "print(\"Modelo entrenado!\")"
   ]
  },
  {
   "cell_type": "code",
   "execution_count": 6,
   "metadata": {},
   "outputs": [
    {
     "data": {
      "text/plain": [
       "[<matplotlib.lines.Line2D at 0x26f71738790>]"
      ]
     },
     "execution_count": 6,
     "metadata": {},
     "output_type": "execute_result"
    },
    {
     "data": {
      "image/png": "[encoded data removed]",
      "text/plain": [
       "<Figure size 432x288 with 1 Axes>"
      ]
     },
     "metadata": {
      "needs_background": "light"
     },
     "output_type": "display_data"
    }
   ],
   "source": [
    "import matplotlib.pyplot as plt\n",
    "plt.xlabel(\"# Epoca\")\n",
    "plt.ylabel(\"Magnitud de pérdida\")\n",
    "plt.plot(historial.history[\"loss\"])"
   ]
  },
  {
   "cell_type": "code",
   "execution_count": 9,
   "metadata": {},
   "outputs": [
    {
     "name": "stdout",
     "output_type": "stream",
     "text": [
      "Hagamos una predicción!\n",
      "El resultado es [[82.399994]] fahrenheit!\n"
     ]
    }
   ],
   "source": [
    "print(\"Hagamos una predicción!\")\n",
    "resultado = modelo.predict([28.0])\n",
    "print(\"El resultado es \" + str(resultado) + \" fahrenheit!\")"
   ]
  },
  {
   "cell_type": "code",
   "execution_count": 8,
   "metadata": {},
   "outputs": [
    {
     "name": "stdout",
     "output_type": "stream",
     "text": [
      "Variables internas del modelo\n",
      "[array([[-0.8883385 ,  0.40923995,  0.00885685]], dtype=float32), array([-3.6921337, -2.4102535, -3.3858213], dtype=float32)]\n",
      "[array([[-0.9186833 ,  1.4034095 , -0.7873318 ],\n",
      "       [ 0.02815322,  0.7231121 , -0.5173362 ],\n",
      "       [ 0.12618579,  1.215647  ,  0.48846745]], dtype=float32), array([-1.1942426, -3.689807 ,  2.0302958], dtype=float32)]\n",
      "[array([[-0.10518797],\n",
      "       [-1.8654466 ],\n",
      "       [ 0.271602  ]], dtype=float32), array([3.4701986], dtype=float32)]\n"
     ]
    }
   ],
   "source": [
    "print(\"Variables internas del modelo\")\n",
    "#print(capa.get_weights())\n",
    "print(oculta1.get_weights())\n",
    "print(oculta2.get_weights())\n",
    "print(salida.get_weights())"
   ]
  }
 ],
 "metadata": {
  "kernelspec": {
   "display_name": "Python 3",
   "language": "python",
   "name": "python3"
  },
  "language_info": {
   "codemirror_mode": {
    "name": "ipython",
    "version": 3
   },
   "file_extension": ".py",
   "mimetype": "text/x-python",
   "name": "python",
   "nbconvert_exporter": "python",
   "pygments_lexer": "ipython3",
   "version": "3.8.3"
  }
 },
 "nbformat": 4,
 "nbformat_minor": 4
}
